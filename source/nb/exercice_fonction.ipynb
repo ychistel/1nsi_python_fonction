{
 "cells": [
  {
   "cell_type": "markdown",
   "metadata": {},
   "source": [
    "Fonctions mathématiques\n",
    "-------------------------------------\n",
    "\n",
    "1. Créer une fonction \"somme_arithm\" qui prend en paramètre un nombre entier N et retourne la somme de tous les nombres entiers inférieurs ou égaux à N.\n",
    "2. Créer une fonction \"somme_carre\" qui prend en paramètre un nombre entier N et retourne la somme des carrés des nombres entiers inférieurs ou égaux à N.\n",
    "3. Créer une fonction \"somme_inverse\" qui prend en paramètre un nombre entier N et retourne la somme des inverses des nombres entiers inférieurs ou égaux à N.\n",
    "4. Créer une fonction \"somme_inverse_carre\" qui prend en paramètre un nombre entier N et retourne la somme des carrés des inverses des nombres entiers inférieurs ou égaux à N."
   ]
  },
  {
   "cell_type": "markdown",
   "metadata": {},
   "source": [
    "Fonction et chaine de caractères\n",
    "----------------------------------------------\n",
    "\n",
    "1. Écrire une fonction \"zen\" qui affiche la ligne de 10 caractères : ZNZNZNZNZN\n",
    "2. Modifier cette fonction pour prendre en **paramètre** le nombre n de caractères.\n",
    "3. Modifier cette fonction pour prendre aussi en paramètre chaque caractère N et Z.\n",
    "4. Utiliser la fonction zen pour créer les deux lignes suivantes :       \n",
    "ZNZNZNZNZN    \n",
    "NZNZNZNZNZ\n",
    "5. Écrire une fonction \"pluszen\" qui utilise la fonction zen pour afficher p lignes et n colonnes de 2 caractères décalés."
   ]
  },
  {
   "cell_type": "markdown",
   "metadata": {},
   "source": [
    "Autres fonctions mathématiques\n",
    "-----------------------------------------------\n",
    "\n",
    "1. Créer une fonction \"est_impair\" qui prend en paramètre un nombre entier et retourne True si le nombre est pair et False s'il ne l'est pas.\n",
    "2. Créer une fonction \"est_multiple\" qui prend en paramètre 2 nombres entiers et qui retourne True si le premier nombre est un multiple du second et False sinon.\n",
    "3. Un nombre entier est dit premier s'il est divisible par 1 et lui-même. Écrire une fonction \"est_premier\" qui prend en paramètre un nombre entier et retourne True s'il est premier et False sinon."
   ]
  },
  {
   "cell_type": "markdown",
   "metadata": {},
   "source": [
    "Les nombres amicaux\n",
    "-------------------------------\n",
    "\n",
    "On dit que deux nombres entiers A et B sont amicaux si la somme des diviseurs de A est égale à B et en même temps la somme des diviseurs de B est égale à A. Attention, on ne prend pas en compte A et B comme diviseur ([wikipedia - nombres amicaux](https://fr.wikipedia.org/wiki/Nombres_amicaux)).\n",
    "\n",
    "1. Créer une fonction \"somme\\_diviseur\" qui prend en paramètre un nombre entier N et retourne la somme des diviseurs de N (on ne doit pas prendre  en compte N comme diviseur).\n",
    "2. Créer une fonction \"nombres\\_amicaux\" qui prend en paramètre 2 nombres entiers A et B et retourne True s'ils sont amicaux et False sinon.\n",
    "3. Vérifier que les nombres 220 et 284 sont amicaux. De même avec 12 285 et 14 595."
   ]
  },
  {
   "cell_type": "markdown",
   "metadata": {},
   "source": [
    "Retourner un nombre\n",
    "------------------------------\n",
    "\n",
    "Créer une fonction \"retourne\" qui prend en paramètre 1 nombre entier et retourne le nombre écrit à l'envers. Par exemple, retourne(123)=321"
   ]
  }
 ],
 "metadata": {
  "kernelspec": {
   "display_name": "Python 3",
   "language": "python",
   "name": "python3"
  },
  "language_info": {
   "codemirror_mode": {
    "name": "ipython",
    "version": 3
   },
   "file_extension": ".py",
   "mimetype": "text/x-python",
   "name": "python",
   "nbconvert_exporter": "python",
   "pygments_lexer": "ipython3",
   "version": "3.9.4"
  },
  "latex_envs": {
   "bibliofile": "biblio.bib",
   "cite_by": "apalike",
   "current_citInitial": 1,
   "eqLabelWithNumbers": true,
   "eqNumInitial": 0
  }
 },
 "nbformat": 4,
 "nbformat_minor": 2
}
