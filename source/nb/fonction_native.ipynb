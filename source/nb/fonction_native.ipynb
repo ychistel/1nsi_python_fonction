{
 "cells": [
  {
   "cell_type": "markdown",
   "id": "3bc1e931",
   "metadata": {},
   "source": [
    "Les fonctions en Python\n",
    "===================="
   ]
  },
  {
   "cell_type": "markdown",
   "id": "eb19c413",
   "metadata": {},
   "source": [
    "Comment connaître le nombre de caractères dans une chaine de caratères ? On peut écrire un script en Python qui permet de connaître ce nombre. Mais Python dispose déjà de ce script, c'est la fonction `len`.\n",
    "\n",
    "Par exemple, la chaine de caractères `\"bonjour le monde\"` contient 16 caractères. En Python, pour connaître ce nombre il suffit d'appeler la fonction avec la chaine de caratères passée en argument.\n",
    "\n",
    "**Dans l'interpréteur**\n",
    "\n",
    "```python\n",
    ">>> len(\"bonjour le monde\")\n",
    "\n",
    "```\n",
    "\n",
    "**Dans un notebook**"
   ]
  },
  {
   "cell_type": "code",
   "execution_count": 1,
   "id": "510bb747",
   "metadata": {},
   "outputs": [
    {
     "data": {
      "text/plain": [
       "16"
      ]
     },
     "execution_count": 1,
     "metadata": {},
     "output_type": "execute_result"
    }
   ],
   "source": [
    "len(\"bonjour le monde\")"
   ]
  },
  {
   "cell_type": "markdown",
   "id": "aabee671",
   "metadata": {},
   "source": [
    "Généralités\n",
    "----------------\n",
    "\n",
    "Le langage Python dispose de plusieurs fonctions dites **natives** comme la fonction `len`. Ces fonctions permettent de réaliser des calculs et d'agir sur les variables.\n",
    "\n",
    "Une fonction est définie par un **nom** et par les **paramètres** dont elle a besoin pour être exécutée. Les paramètres sont placés entre parenthèses juste après le nom de la fonction.\n",
    "\n",
    "La syntaxe d'une fonction est donc : `nom_de_fonction(paramètre_1, paramètre_2,...)`.\n",
    "\n",
    "Une fonction :\n",
    "\n",
    "- peut avoir 0, 1, 2, plusieurs paramètres.\n",
    "- peut avoir des paramètres **optionnels** qui ont une valeur par défaut; il est possible de modifier cette valeur à l'appel de la fonction en précisant entre parenthèses `paramètre = nouvelle valeur`.\n",
    "- respecte l'ordre des paramètres.\n",
    "\n",
    "On appelle **arguments** la liste des valeurs fournie à la fonction. Chaque argument sera affecté à chaque paramètre de la fonction."
   ]
  },
  {
   "cell_type": "markdown",
   "id": "39d0cec4",
   "metadata": {},
   "source": [
    "Quelques fonctions utiles\n",
    "------------------------------------\n",
    "\n",
    "Les fonctions natives sont répertoriées sur le site de la [documentation Python](https://docs.python.org/fr/3/library/functions.html).\n",
    "\n",
    "On donne un bref aperçu de quelques unes de ce fonctions à travers des usages qui nous seront utiles cette année."
   ]
  },
  {
   "cell_type": "markdown",
   "id": "e307cea4",
   "metadata": {},
   "source": [
    "**abs(x)**\n",
    "\n",
    "La fonction mathématique `abs` prend en argument un nombre et renvoie sa valeur absolue, c'est à dire transformé en nombre positif."
   ]
  },
  {
   "cell_type": "raw",
   "id": "4f63bdb8",
   "metadata": {
    "raw_mimetype": "text/restructuredtext"
   },
   "source": [
    ".. admonition:: Exemple\n",
    "\n",
    "    >>> a = 3.5\n",
    "    >>> b = -2\n",
    "    >>> c = abs(a)\n",
    "    >>> d = abs(b)\n",
    "    \n",
    "    les variables `c` et `d` ont pour valeurs respectives `3.5` et `2`"
   ]
  },
  {
   "cell_type": "markdown",
   "id": "ad8af442",
   "metadata": {},
   "source": [
    "**float(x)**\n",
    "\n",
    "La fonction `float` prend en argument un nombre ou une chaine de caractères numérique et renvoie un nombre à virgule, un flottant."
   ]
  },
  {
   "cell_type": "raw",
   "id": "898dc413",
   "metadata": {
    "raw_mimetype": "text/restructuredtext"
   },
   "source": [
    ".. admonition:: Exemple\n",
    "\n",
    "    >>> a = float(5)\n",
    "    >>> b = float('1E03')\n",
    "    >>> c = float('-4.6')\n",
    "   \n",
    "    les variables `a`, `b` et `c` ont pour valeurs respectives `5.0`, `1000.0` et `-4.6`"
   ]
  },
  {
   "cell_type": "markdown",
   "id": "34620687",
   "metadata": {},
   "source": [
    "**help(objet)**\n",
    "\n",
    "La fonction `help` prend en argument un objet Python qui peut être une fonction ou une variable et renvoie l'aide native sur celui-ci.\n",
    "\n",
    "Si la fonction est exécutée sans argument `help()`, un programme d'aide démarre dans l'interpréteur."
   ]
  },
  {
   "cell_type": "raw",
   "id": "4f0619c0",
   "metadata": {
    "raw_mimetype": "text/restructuredtext"
   },
   "source": [
    ".. admonition:: Exemple\n",
    "\n",
    "    >>> help(abs)\n",
    "   \n",
    "    L'aide sur la fonction `abs` est affichée:\n",
    "    \n",
    "        Help on built-in function abs in module builtins:\n",
    "\n",
    "        abs(x, /)\n",
    "            Return the absolute value of the argument."
   ]
  },
  {
   "cell_type": "markdown",
   "id": "6ebeccc4",
   "metadata": {},
   "source": [
    "**input(prompt)**\n",
    "\n",
    "La fonction input permet de saisir une valeur par un utilisateur. Le `prompt` est affiché et peut constituér un guide pour la saise. La valeur saisie sera convertie en chaine de caractères."
   ]
  },
  {
   "cell_type": "raw",
   "id": "6fafbd17",
   "metadata": {
    "raw_mimetype": "text/restructuredtext"
   },
   "source": [
    ".. admonition:: Exemple\n",
    "\n",
    "    >>> input(\"Comment allez-vous ? \")\n",
    "      Comment allez-vous ? bien\n",
    "    'bien'\n",
    "    >>>\n",
    "   \n",
    "    Dans l'interpréteur, une ligne de saisie est proposée avec le message \"Comment allez-vous ?\"\n",
    "    Après la saisie de la valeur, celle-ci est affichée."
   ]
  },
  {
   "cell_type": "markdown",
   "id": "c3803f1b",
   "metadata": {},
   "source": [
    "**int(x,base=10)**\n",
    "\n",
    "La fonction  `int` transforme en nombre entier l'argument passé en paramètre.  On peut remarquer la présence d'un paramètre optionnel `base` qui a pour valeur 10 par défaut.\n",
    "\n",
    "Si la valeur passée en argument est un flottant, alors la fonction renvoie la partie entière du flottant, c'est à dire la partie avent la virgule."
   ]
  },
  {
   "cell_type": "raw",
   "id": "f59fca5d",
   "metadata": {
    "raw_mimetype": "text/restructuredtext"
   },
   "source": [
    ".. admonition:: Exemple\n",
    "\n",
    "    >>> a = int(-4.1)\n",
    "    >>> b = int(3.5)\n",
    "    >>> c = int('1E3')\n",
    "    \n",
    "    les variables `a`, `b` et `c` ont pour valeurs respectives `-5`, `3` et `1000`."
   ]
  },
  {
   "cell_type": "markdown",
   "id": "f06b8540",
   "metadata": {},
   "source": [
    "**len(x)**\n",
    "\n",
    "La fonction  `len` renvoie le nombre d'éléments contenus dans la variable `x`. Cette fonction s'applique sur des variables de type **string** et **list** qui ont plusieurs éléments."
   ]
  },
  {
   "cell_type": "raw",
   "id": "4c2df656",
   "metadata": {
    "raw_mimetype": "text/restructuredtext"
   },
   "source": [
    ".. admonition:: Exemple\n",
    "\n",
    "    >>> a = len(\"bonjour\")\n",
    "    >>> b = len([4,5,6])\n",
    "    \n",
    "    la variable `a` a pour valeur `7` puisque le mot *bonjour* a 7 lettres.\n",
    "    la variable `b` a pour valeur `3` puisque la liste contient 3 nombres."
   ]
  },
  {
   "cell_type": "markdown",
   "id": "d91efe3f",
   "metadata": {},
   "source": [
    "**pow(base,exp)**\n",
    "\n",
    "La fonction mathématique `pow` calcule une puissance du nombre passé en argument du paramètre `base` élevé à la puissance `exp`.\n",
    "\n",
    "Cette fonction est finalement équivalente à `base**exp`."
   ]
  },
  {
   "cell_type": "raw",
   "id": "a74d25a6",
   "metadata": {
    "raw_mimetype": "text/restructuredtext"
   },
   "source": [
    ".. admonition:: Exemple\n",
    "\n",
    "    >>> a = pow(4,2)\n",
    "    >>> b = pow(2,-1)\n",
    "    \n",
    "    les variables `a` et `b` ont pour valeurs respectives :math:`4^2=16` et :math:`2^{-1}=0.5`."
   ]
  },
  {
   "cell_type": "markdown",
   "id": "dac04da2",
   "metadata": {},
   "source": [
    "**print(variables, sep=' ', end='\\n')**\n",
    "\n",
    "Cette fonction permet d'afficher un message, une valeur ou la combinaison des deux. Elle prend en paramètre une chaine de caractères et/ou une variable. Elle s'applique aux variables quel que soit leur type.\n",
    "\n",
    "La fonction possède des paramètres optionnels:\n",
    "\n",
    "- le paramètre `sep=' '` qui est le séparateur affiché entre les valeurs\n",
    "- le paramètre `end='\\n'` qui réalise un retour à la ligne pour l'affichage suivant."
   ]
  },
  {
   "cell_type": "raw",
   "id": "e5451d11",
   "metadata": {
    "raw_mimetype": "text/restructuredtext"
   },
   "source": [
    ".. admonition:: Exemple\n",
    "\n",
    "    1. Afficher un message:\n",
    "    \n",
    "    >>> print(\"Bonjour\")\n",
    "    \n",
    "    2. Afficher la valeur d'une variable:\n",
    "    \n",
    "    >>> a = 5\n",
    "    >>> print(a)\n",
    "    \n",
    "    3. Afficher une variable accompagnée d'un message:\n",
    "    \n",
    "    >>> a = 5\n",
    "    >>> print(\"La valeur de a est:\",a)\n",
    "    \n",
    "    4. Changer de séparateur entre plusieurs variables:\n",
    "    \n",
    "    >>> a,b,c = 4,5,6\n",
    "    >>> print(a,b,c,end=\"<\")\n",
    "    \n",
    "    L'affichage en console sera : `4 < 5 < 6`"
   ]
  },
  {
   "cell_type": "markdown",
   "id": "a311c094",
   "metadata": {},
   "source": [
    "**round(n,ndigits)**\n",
    "\n",
    "La fontion `round` renvoie le nombre `n` arrondi avec une précision de `ndigits` chiffres après la virgule. Si `ndigits` est omis (ou est None), l'entier le plus proche est renvoyé."
   ]
  },
  {
   "cell_type": "raw",
   "id": "cdad709a",
   "metadata": {
    "raw_mimetype": "text/restructuredtext"
   },
   "source": [
    ".. admonition:: Exemple\n",
    "\n",
    "    >>> a = round(4.63)\n",
    "    >>> b = round(4.63,1)\n",
    "    \n",
    "    les variables `a` et `b` ont pour valeurs respectives `5` et `4.6`."
   ]
  },
  {
   "cell_type": "markdown",
   "id": "074dc0be",
   "metadata": {},
   "source": [
    "**type(variable)**\n",
    "\n",
    "La fontion `type` renvoie le type de la variable passée en paramètre."
   ]
  },
  {
   "cell_type": "raw",
   "id": "c7bbd6fd",
   "metadata": {
    "raw_mimetype": "text/restructuredtext"
   },
   "source": [
    ".. admonition:: Exemple\n",
    "\n",
    "    >>> a = 4\n",
    "    >>> b = 4.63\n",
    "    >>> type(a)\n",
    "    <class 'int'>\n",
    "    >>> type(b)\n",
    "    <class 'float'>\n",
    "    \n",
    "    la variable `a` est de type `int` et la variable `b` est de type `float`."
   ]
  }
 ],
 "metadata": {
  "celltoolbar": "Format de la Cellule Texte Brut",
  "kernelspec": {
   "display_name": "Python 3",
   "language": "python",
   "name": "python3"
  },
  "language_info": {
   "codemirror_mode": {
    "name": "ipython",
    "version": 3
   },
   "file_extension": ".py",
   "mimetype": "text/x-python",
   "name": "python",
   "nbconvert_exporter": "python",
   "pygments_lexer": "ipython3",
   "version": "3.9.4"
  }
 },
 "nbformat": 4,
 "nbformat_minor": 5
}
