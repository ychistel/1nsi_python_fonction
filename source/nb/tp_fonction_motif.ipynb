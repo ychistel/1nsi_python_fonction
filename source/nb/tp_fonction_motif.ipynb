{
 "cells": [
  {
   "cell_type": "code",
   "execution_count": 1,
   "metadata": {},
   "outputs": [],
   "source": [
    "def mafonction():\n",
    "    \"\"\"\n",
    "    Dans une fonction on peut avoir:\n",
    "    -> des variables internes\n",
    "    -> des instructions conditionnelles\n",
    "    -> des boucles\n",
    "    \"\"\"\n",
    "    a = 5\n",
    "    \"\"\"\n",
    "    Après exécution des instructions, la fonction renvoie une valeur:\n",
    "    -> un nombre entier ou flottant\n",
    "    -> un booléen True ou False\n",
    "    -> une chaine de caratères\n",
    "    -> tout type de valeur\n",
    "    Remarques : \n",
    "    1) les variables internes à la fonction sont détruites après avoir \n",
    "    renvoyé la valeur avec return\n",
    "    2) return met fin à l'exécution de la fonction\n",
    "    \"\"\"  \n",
    "    return a "
   ]
  },
  {
   "cell_type": "code",
   "execution_count": 2,
   "metadata": {},
   "outputs": [],
   "source": [
    "# On appelle la fonction et on mémorise la valeur renvoyée dans la variable v\n",
    "v=mafonction()"
   ]
  },
  {
   "cell_type": "code",
   "execution_count": 3,
   "metadata": {},
   "outputs": [
    {
     "name": "stdout",
     "output_type": "stream",
     "text": [
      "5\n"
     ]
    }
   ],
   "source": [
    "# On affiche le contenu de la variable v\n",
    "print(v)"
   ]
  },
  {
   "cell_type": "markdown",
   "metadata": {},
   "source": [
    "## Avec une fonction"
   ]
  },
  {
   "cell_type": "code",
   "execution_count": 4,
   "metadata": {},
   "outputs": [
    {
     "name": "stdout",
     "output_type": "stream",
     "text": [
      "XXXXXXXXXX\n",
      "XXXXXXXXXX\n",
      "XXXXXXXXXX\n",
      "XXXXXXXXXX\n",
      "XXXXXXXXXX\n",
      "XXXXXXXXXX\n",
      "XXXXXXXXXX\n",
      "XXXXXXXXXX\n",
      "XXXXXXXXXX\n",
      "XXXXXXXXXX\n",
      "\n"
     ]
    }
   ],
   "source": [
    "# On initialise le motif avec du vide, pas de caractère\n",
    "motif=\"\"\n",
    "\n",
    "# Une première boucle qui va réaliser 10 lignes\n",
    "for _ in range(10):\n",
    "    # Une seconde boucle qui ajoute 10 fois la lettre X au motif\n",
    "    for _ in range(10):\n",
    "        motif=motif+\"X\"\n",
    "    # On sort de la seconde boucle, le motif vaut \"XXXXXXXXXX\",\n",
    "    # on ajoute alors au motif le caractère spécial \\n qui équivaut à aller à la ligne.\n",
    "    motif=motif+\"\\n\"\n",
    "\n",
    "# La première boucle est terminée, on 10 lignes de motif qu'on affiche\n",
    "print(motif)"
   ]
  },
  {
   "cell_type": "code",
   "execution_count": 5,
   "metadata": {},
   "outputs": [
    {
     "name": "stdout",
     "output_type": "stream",
     "text": [
      "XXXXXXXXXX\n",
      "XXXXXXXXXX\n",
      "XXXXXXXXXX\n",
      "XXXXXXXXXX\n",
      "XXXXXXXXXX\n",
      "XXXXXXXXXX\n",
      "XXXXXXXXXX\n",
      "XXXXXXXXXX\n",
      "XXXXXXXXXX\n",
      "XXXXXXXXXX\n",
      "\n"
     ]
    }
   ],
   "source": [
    "# Fonction qui renvoie un motif composé de 10 fois la lettre X et le retour à la ligne\n",
    "\n",
    "def ligne_X():\n",
    "    # On initialise le motif avec du vide, pas de caractère\n",
    "    motif=\"\"\n",
    "    for _ in range(10):\n",
    "        motif=motif+\"X\"\n",
    "    # On sort de la seconde boucle, le motif vaut \"XXXXXXXXXX\",\n",
    "    # on ajoute alors au motif le caractère spécial \\n qui équivaut à aller à la ligne.\n",
    "    motif=motif+\"\\n\"\n",
    "    # On renvoie le motif \"XXXXXXXXXX\\n\"\n",
    "    return motif\n",
    "\n",
    "# On initialise la variable dessin\n",
    "dessin=\"\"\n",
    "# Une première boucle qui va réaliser 10 lignes\n",
    "for _ in range(10):\n",
    "    # on appelle la fonction et on affecte la valeur à la variable ligne\n",
    "    ligne=ligne_X()\n",
    "    # On ajoute au dessin la ligne renvoyée par la fonction\n",
    "    dessin=dessin+ligne\n",
    "    \n",
    "# L boucle est terminée, on affiche le dessin\n",
    "print(dessin)"
   ]
  },
  {
   "cell_type": "code",
   "execution_count": 9,
   "metadata": {},
   "outputs": [
    {
     "name": "stdout",
     "output_type": "stream",
     "text": [
      "XXXX\n",
      "XXXX\n",
      "XXXX\n",
      "XXXX\n",
      "\n"
     ]
    }
   ],
   "source": [
    "def ligne_nX(n):\n",
    "    # On initialise le motif avec du vide, pas de caractère\n",
    "    motif=\"\"\n",
    "    for _ in range(n):\n",
    "        motif=motif+\"X\"\n",
    "    # On sort de la seconde boucle, le motif vaut \"XXXXXXXXXX\",\n",
    "    # on ajoute alors au motif le caractère spécial \\n qui équivaut à aller à la ligne.\n",
    "    motif=motif+\"\\n\"\n",
    "    # On renvoie le motif \"XXXXXXXXXX\\n\"\n",
    "    return motif\n",
    "\n",
    "# On initialise la valeur de n (nombre de lignes)\n",
    "n=4\n",
    "# On initialise la variable dessin\n",
    "dessin=\"\"\n",
    "# Une première boucle qui va réaliser n lignes\n",
    "for _ in range(n):\n",
    "    # on appelle la fonction et on affecte la valeur à la variable ligne\n",
    "    ligne=ligne_nX(n)\n",
    "    # On ajoute au dessin la ligne renvoyée par la fonction\n",
    "    dessin=dessin+ligne\n",
    "    \n",
    "# L boucle est terminée, on affiche le dessin\n",
    "print(dessin)"
   ]
  },
  {
   "cell_type": "code",
   "execution_count": 11,
   "metadata": {},
   "outputs": [
    {
     "name": "stdout",
     "output_type": "stream",
     "text": [
      "ZZZZZZZZ\n",
      "ZZZZZZZZ\n",
      "ZZZZZZZZ\n",
      "ZZZZZZZZ\n",
      "ZZZZZZZZ\n",
      "ZZZZZZZZ\n",
      "ZZZZZZZZ\n",
      "ZZZZZZZZ\n",
      "\n"
     ]
    }
   ],
   "source": [
    "def ligne_nX(n,c=\"X\"):\n",
    "    # On initialise le motif avec du vide, pas de caractère\n",
    "    motif=\"\"\n",
    "    for _ in range(n):\n",
    "        # On ajoute au motif le caractère passé en paramètre\n",
    "        motif=motif+c\n",
    "    # on ajoute alors au motif le caractère spécial \\n qui équivaut à aller à la ligne.\n",
    "    motif=motif+\"\\n\"\n",
    "    # On renvoie le motif\n",
    "    return motif\n",
    "\n",
    "# On initialise la valeur de n (nombre de lignes) et le caractère\n",
    "n=8\n",
    "c=\"Z\"\n",
    "# On initialise la variable dessin\n",
    "dessin=\"\"\n",
    "# Une première boucle qui va réaliser n lignes\n",
    "for _ in range(n):\n",
    "    # on appelle la fonction et on affecte la valeur à la variable ligne\n",
    "    ligne=ligne_nX(n,c)\n",
    "    # On ajoute au dessin la ligne renvoyée par la fonction\n",
    "    dessin=dessin+ligne\n",
    "    \n",
    "# L boucle est terminée, on affiche le dessin\n",
    "print(dessin)"
   ]
  },
  {
   "cell_type": "code",
   "execution_count": 12,
   "metadata": {},
   "outputs": [
    {
     "name": "stdout",
     "output_type": "stream",
     "text": [
      "XXXXXXXXXX\n",
      "X        X\n",
      "X        X\n",
      "X        X\n",
      "X        X\n",
      "X        X\n",
      "X        X\n",
      "X        X\n",
      "X        X\n",
      "XXXXXXXXXX\n"
     ]
    }
   ],
   "source": [
    "for _ in range(10):\n",
    "    print(\"X\",end=\"\")\n",
    "print()\n",
    "for _ in range(8):\n",
    "    print(\"X\",end=\"\")\n",
    "    for _ in range(8):\n",
    "        print(\" \",end=\"\")\n",
    "    print(\"X\",end=\"\")\n",
    "    print()\n",
    "for _ in range(10):\n",
    "    print(\"X\",end=\"\")\n",
    "print()"
   ]
  },
  {
   "cell_type": "code",
   "execution_count": 19,
   "metadata": {},
   "outputs": [
    {
     "name": "stdout",
     "output_type": "stream",
     "text": [
      "OOOOOOOOOO\n",
      "O        O\n",
      "O        O\n",
      "O        O\n",
      "O        O\n",
      "O        O\n",
      "O        O\n",
      "O        O\n",
      "O        O\n",
      "OOOOOOOOOO\n",
      "\n"
     ]
    }
   ],
   "source": [
    "def ligne_nX(n,c=\"X\"):\n",
    "    # On initialise le motif avec du vide, pas de caractère\n",
    "    motif=\"\"\n",
    "    for _ in range(n):\n",
    "        # On ajoute au motif le caractère passé en paramètre\n",
    "        motif=motif+c\n",
    "    # on ajoute alors au motif le caractère spécial \\n qui équivaut à aller à la ligne.\n",
    "    motif=motif+\"\\n\"\n",
    "    # On renvoie le motif\n",
    "    return motif\n",
    "\n",
    "def lignes_X_X(n,c):\n",
    "    # On initialise le motif avec le caractère passé en paramètre\n",
    "    motif=c\n",
    "    # On ajoute les espaces avec une boucle for\n",
    "    for _ in range(n-2):\n",
    "        motif=motif+\" \"\n",
    "    # On finit le motif en ajoutant le caractère et le retour à la ligne\n",
    "    motif=motif+c+\"\\n\"\n",
    "    # On renvoie le motif\n",
    "    return motif\n",
    "\n",
    "n=10\n",
    "c=\"O\"\n",
    "dessin=\"\"\n",
    "# On ajoute à dessin la première ligne remplie de caractères\n",
    "dessin=dessin+ligne_nX(n,c)\n",
    "# On ajoute avec une boucle les lignes blanches bordées par les caractères\n",
    "for _ in range(1,n-1):\n",
    "    dessin=dessin+lignes_X_X(n,c)\n",
    "# On finit le dessin avec la dernière ligne (comme la première)\n",
    "dessin=dessin+ligne_nX(n,c)\n",
    "\n",
    "print(dessin)\n"
   ]
  },
  {
   "cell_type": "code",
   "execution_count": 48,
   "metadata": {},
   "outputs": [
    {
     "name": "stdout",
     "output_type": "stream",
     "text": [
      "n=17\n",
      "XXXXXXXXXXXXXXXXX\n",
      " X             X\n",
      "  X           X\n",
      "   X         X\n",
      "    X       X\n",
      "     X     X\n",
      "      X   X\n",
      "       X X\n",
      "        X         \n",
      "       X X       \n",
      "      X   X      \n",
      "     X     X     \n",
      "    X       X    \n",
      "   X         X   \n",
      "  X           X  \n",
      " X             X \n",
      "XXXXXXXXXXXXXXXXX\n"
     ]
    }
   ],
   "source": [
    "n=int(input(\"n=\"))\n",
    "# On crée la première ligne remplie de X\n",
    "for _ in range(n):\n",
    "    print(\"X\",end=\"\")\n",
    "print()\n",
    "# On crée les lignes suivantes jusqu'à la moitié\n",
    "for k in range(1,n//2):\n",
    "    for _ in range(k):\n",
    "        print(\" \",end=\"\")\n",
    "    print(\"X\",end=\"\")\n",
    "    for _ in range(k+1,n-k-1):\n",
    "        print(\" \",end=\"\")\n",
    "    print(\"X\",end=\"\")\n",
    "    for _ in range(n-k,n//2):\n",
    "        print(\" \",end=\"\")\n",
    "    print()\n",
    "# On vérifie la parité du nombre de ligne:\n",
    "# si n impair on écrit X, sinon rien\n",
    "if n%2==1:\n",
    "    for _ in range(n//2):\n",
    "        print(\" \",end=\"\")\n",
    "    print(\"X\",end=\"\")\n",
    "    for _ in range(n//2,n):\n",
    "        print(\" \",end=\"\")\n",
    "    print()\n",
    "# On crée les lignes dans la seconde moitié\n",
    "for k in range(n//2+1,n-1):\n",
    "    for _ in range(n-k-1):\n",
    "        print(\" \",end=\"\")\n",
    "    print(\"X\",end=\"\")\n",
    "    for _ in range(n-k,k):\n",
    "        print(\" \",end=\"\")\n",
    "    print(\"X\",end=\"\")\n",
    "    for _ in range(k+1,n):\n",
    "        print(\" \",end=\"\")\n",
    "    print()\n",
    "# On termine avec la dernière ligne\n",
    "for _ in range(n):\n",
    "    print(\"X\",end=\"\")\n",
    "print()"
   ]
  },
  {
   "cell_type": "code",
   "execution_count": 59,
   "metadata": {},
   "outputs": [
    {
     "name": "stdout",
     "output_type": "stream",
     "text": [
      "n=15\n",
      "XXXXXXXXXXXXXXX\n",
      " X           X\n",
      "  X         X\n",
      "   X       X\n",
      "    X     X\n",
      "     X   X\n",
      "      X X\n",
      "       X        \n",
      "      X X      \n",
      "     X   X     \n",
      "    X     X    \n",
      "   X       X   \n",
      "  X         X  \n",
      " X           X \n",
      "XXXXXXXXXXXXXXX\n",
      "\n"
     ]
    }
   ],
   "source": [
    "def lignes_avantcentre(n):\n",
    "    motif=\"\"\n",
    "    for k in range(1,n//2):\n",
    "        for _ in range(k):\n",
    "            motif=motif+\" \"\n",
    "        motif=motif+\"X\"\n",
    "        for _ in range(k+1,n-k-1):\n",
    "            motif=motif+\" \"\n",
    "        motif=motif+\"X\"\n",
    "        for _ in range(n-k,n//2):\n",
    "            motif=motif+\" \"\n",
    "        motif=motif+\"\\n\"\n",
    "    return motif\n",
    "\n",
    "def centre(n):\n",
    "    motif=\"\"\n",
    "    for _ in range(n//2):\n",
    "        motif=motif+\" \"\n",
    "    motif=motif+\"X\"\n",
    "    for _ in range(n//2,n):\n",
    "        motif=motif+\" \"\n",
    "    motif=motif+\"\\n\"\n",
    "    return motif\n",
    "\n",
    "def lignes_aprescentre(n):\n",
    "    motif=\"\"\n",
    "    for k in range(n//2+1,n-1):\n",
    "        for _ in range(n-k-1):\n",
    "            motif=motif+\" \"\n",
    "        motif=motif+\"X\"\n",
    "        for _ in range(n-k,k):\n",
    "            motif=motif+\" \"\n",
    "        motif=motif+\"X\"\n",
    "        for _ in range(k+1,n):\n",
    "            motif=motif+\" \"\n",
    "        motif=motif+\"\\n\"\n",
    "    return motif\n",
    "\n",
    "\n",
    "\n",
    "n=int(input(\"n=\"))\n",
    "dessin=\"\"\n",
    "dessin=dessin+ligne_nX(n,c=\"X\")\n",
    "dessin=dessin+lignes_avantcentre(n)\n",
    "if n%2:\n",
    "    dessin=dessin+centre(n)\n",
    "dessin=dessin+lignes_aprescentre(n)\n",
    "dessin=dessin+ligne_nX(n,c=\"X\")\n",
    "\n",
    "print(dessin)\n"
   ]
  },
  {
   "cell_type": "code",
   "execution_count": null,
   "metadata": {},
   "outputs": [],
   "source": []
  },
  {
   "cell_type": "code",
   "execution_count": null,
   "metadata": {},
   "outputs": [],
   "source": []
  }
 ],
 "metadata": {
  "kernelspec": {
   "display_name": "Python 3",
   "language": "python",
   "name": "python3"
  },
  "language_info": {
   "codemirror_mode": {
    "name": "ipython",
    "version": 3
   },
   "file_extension": ".py",
   "mimetype": "text/x-python",
   "name": "python",
   "nbconvert_exporter": "python",
   "pygments_lexer": "ipython3",
   "version": "3.9.4"
  }
 },
 "nbformat": 4,
 "nbformat_minor": 4
}
