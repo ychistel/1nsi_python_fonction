{
 "cells": [
  {
   "cell_type": "markdown",
   "id": "897fac10",
   "metadata": {},
   "source": [
    "Activité : fonction\n",
    "===============\n",
    "\n",
    "On donne un programme en Python que l'on va rendre plus facile à modifier en y incluant des fonctions."
   ]
  },
  {
   "cell_type": "code",
   "execution_count": 1,
   "id": "095432fa",
   "metadata": {},
   "outputs": [
    {
     "name": "stdout",
     "output_type": "stream",
     "text": [
      "saisir nombre a = 1\n",
      "saisir nombre b = 1\n",
      "saisir nombre c = 2\n",
      "0 1 2\n"
     ]
    }
   ],
   "source": [
    "a = int(input(\"saisir nombre a = \"))\n",
    "b = int(input(\"saisir nombre b = \"))\n",
    "c = int(input(\"saisir nombre c = \"))\n",
    "\n",
    "if a + b + c >= 10:\n",
    "    a = a-1\n",
    "    b = b-1\n",
    "    c = c-1\n",
    "if a < b:\n",
    "    c = c-1\n",
    "if c < a:\n",
    "    b = b-1\n",
    "if b < c:\n",
    "    a = a-1\n",
    "    \n",
    "print(a,b,c)"
   ]
  },
  {
   "cell_type": "markdown",
   "id": "5c1a445f",
   "metadata": {},
   "source": [
    "On saisit `a=1`, `b=1` et `c=2`\n",
    "\n",
    "- le test ligne 5 : `a + b + c = 1 + 1 + 2 < 10` est faux donc on passe à la ligne 9;\n",
    "- le test ligne 9 : `a < b` soit `1 < 1` est faux donc on passe à la ligne 11;\n",
    "- le test ligne 11 : `c < a` soit `2 < 1` est faux donc on passe à la ligne 13;\n",
    "- le test ligne 13 : `b < c` soit `1 < 2` est vrai donc `a = a-1` soit `a = 1-1 = 0`.\n",
    "\n",
    "Les valeurs des variables a, b et c sont respectivement 0, 1 et 2 d'où l'affichage."
   ]
  },
  {
   "cell_type": "markdown",
   "id": "e639d375",
   "metadata": {},
   "source": [
    "Le code du programme ci-dessus contient des instructions semblables.\n",
    "\n",
    "- lignes 1, 2 et 3 sont semblables ; seul le nom de la variable change.\n",
    "- les lignes 6, 7, 8, 10, 12 et 14 contiennent le même calcul; seul le nom de la variable change."
   ]
  },
  {
   "cell_type": "code",
   "execution_count": 23,
   "id": "8ce69874",
   "metadata": {},
   "outputs": [],
   "source": [
    "def saisir(v):\n",
    "    nombre = int(input(\"saisir nombre \" + v + \" = \"))\n",
    "    return nombre"
   ]
  },
  {
   "cell_type": "code",
   "execution_count": 24,
   "id": "61c6fac5",
   "metadata": {},
   "outputs": [
    {
     "name": "stdout",
     "output_type": "stream",
     "text": [
      "saisir nombre  = 5\n"
     ]
    },
    {
     "data": {
      "text/plain": [
       "5"
      ]
     },
     "execution_count": 24,
     "metadata": {},
     "output_type": "execute_result"
    }
   ],
   "source": [
    "saisir(\"e\")"
   ]
  },
  {
   "cell_type": "code",
   "execution_count": 11,
   "id": "5d753f7c",
   "metadata": {},
   "outputs": [],
   "source": [
    "def calcul(n):\n",
    "    n = n-1\n",
    "    return n"
   ]
  },
  {
   "cell_type": "code",
   "execution_count": 12,
   "id": "3e2f70ac",
   "metadata": {},
   "outputs": [
    {
     "data": {
      "text/plain": [
       "1"
      ]
     },
     "execution_count": 12,
     "metadata": {},
     "output_type": "execute_result"
    }
   ],
   "source": [
    "calcul(4)"
   ]
  },
  {
   "cell_type": "code",
   "execution_count": 21,
   "id": "88da1dac",
   "metadata": {},
   "outputs": [
    {
     "name": "stdout",
     "output_type": "stream",
     "text": [
      "saisir nombre a = 4\n",
      "saisir nombre b = 4\n",
      "saisir nombre c = 4\n",
      "3 3 3\n"
     ]
    }
   ],
   "source": [
    "# Fonction de saisi d'un nombre par l'utilisateur\n",
    "def saisir(v):\n",
    "    message = \"saisir nombre \" + v + \" = \"\n",
    "    nombre = int(input(message))\n",
    "    return nombre\n",
    "\n",
    "# fonction de calcul\n",
    "def calcul(n=1):\n",
    "    n = n-1\n",
    "    return n\n",
    "\n",
    "a = saisir(\"a\")\n",
    "b = saisir(\"b\")\n",
    "c = saisir(\"c\")\n",
    "\n",
    "if a + b + c >= 10:\n",
    "    a = calcul(a)\n",
    "    b = calcul(b)\n",
    "    c = calcul(c)\n",
    "if a < b:\n",
    "    c = calcul(c)\n",
    "if c < a:\n",
    "    b = calcul(b)\n",
    "if b < c:\n",
    "    a = calcul(a)\n",
    "    \n",
    "print(a,b,c)"
   ]
  },
  {
   "cell_type": "markdown",
   "id": "df1ef7ae",
   "metadata": {},
   "source": [
    "Conclusion\n",
    "----------------\n",
    "\n",
    "- Le nom choisi pour la fonction doit permettre de comprendre son utilité\n",
    "- l'écriture du programme est plus facile à comprendre, à lire\n",
    "- on peut modifier tous les calculs en modifiant une seule fois la fonction"
   ]
  }
 ],
 "metadata": {
  "kernelspec": {
   "display_name": "Python 3",
   "language": "python",
   "name": "python3"
  },
  "language_info": {
   "codemirror_mode": {
    "name": "ipython",
    "version": 3
   },
   "file_extension": ".py",
   "mimetype": "text/x-python",
   "name": "python",
   "nbconvert_exporter": "python",
   "pygments_lexer": "ipython3",
   "version": "3.9.4"
  }
 },
 "nbformat": 4,
 "nbformat_minor": 5
}
