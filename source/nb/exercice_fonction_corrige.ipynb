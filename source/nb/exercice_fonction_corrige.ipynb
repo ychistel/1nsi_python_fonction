{
 "cells": [
  {
   "cell_type": "markdown",
   "metadata": {},
   "source": [
    "Les fonctions en python\n",
    "====================\n",
    "\n",
    "Exemples du cours\n",
    "---------------------------"
   ]
  },
  {
   "cell_type": "code",
   "execution_count": 1,
   "metadata": {},
   "outputs": [
    {
     "name": "stdout",
     "output_type": "stream",
     "text": [
      "XXXXX\n",
      "XXXXX\n",
      "XXXXX\n",
      "XXXXX\n",
      "XXXXX\n",
      "\n"
     ]
    }
   ],
   "source": [
    "def dessinecarre():\n",
    "    motif=\"\"\n",
    "    for _ in range(5):\n",
    "        for _ in range(5):\n",
    "            motif=motif+\"X\"\n",
    "        motif=motif+\"\\n\"\n",
    "    return motif\n",
    "\n",
    "d=dessinecarre()\n",
    "print(d)"
   ]
  },
  {
   "cell_type": "code",
   "execution_count": 6,
   "metadata": {},
   "outputs": [
    {
     "name": "stdout",
     "output_type": "stream",
     "text": [
      "XXXXXXXX\n",
      "XXXXXXXX\n",
      "XXXXXXXX\n",
      "XXXXXXXX\n",
      "XXXXXXXX\n",
      "XXXXXXXX\n",
      "XXXXXXXX\n",
      "XXXXXXXX\n",
      "\n"
     ]
    }
   ],
   "source": [
    "# La fonction dessinecarre avec un paramètre\n",
    "\n",
    "def dessinecarre(n):\n",
    "    motif=\"\"\n",
    "    for _ in range(n):\n",
    "        for _ in range(n):\n",
    "            motif=motif+\"X\"\n",
    "        motif=motif+\"\\n\"\n",
    "    return motif\n",
    "\n",
    "\n",
    "d=dessinecarre(8)\n",
    "print(d)"
   ]
  },
  {
   "cell_type": "code",
   "execution_count": 9,
   "metadata": {},
   "outputs": [
    {
     "name": "stdout",
     "output_type": "stream",
     "text": [
      "OOOOOOOOOO\n",
      "OOOOOOOOOO\n",
      "OOOOOOOOOO\n",
      "OOOOOOOOOO\n",
      "OOOOOOOOOO\n",
      "OOOOOOOOOO\n",
      "OOOOOOOOOO\n",
      "OOOOOOOOOO\n",
      "OOOOOOOOOO\n",
      "OOOOOOOOOO\n",
      "\n"
     ]
    }
   ],
   "source": [
    "def dessinecarre(n,c):\n",
    "    motif=\"\"\n",
    "    for _ in range(n):\n",
    "        for _ in range(n):\n",
    "            motif=motif+c\n",
    "        motif=motif+\"\\n\"\n",
    "    return motif\n",
    "\n",
    "\n",
    "d=dessinecarre(10,\"O\")\n",
    "print(d)"
   ]
  },
  {
   "cell_type": "code",
   "execution_count": 11,
   "metadata": {},
   "outputs": [
    {
     "data": {
      "text/plain": [
       "False"
      ]
     },
     "execution_count": 11,
     "metadata": {},
     "output_type": "execute_result"
    }
   ],
   "source": [
    "def est_pair(n):\n",
    "    if n%2==0:\n",
    "        return True\n",
    "    else:\n",
    "        return False\n",
    "    print(\"le nombre est pair\")\n",
    "    \n",
    "est_pair(5)"
   ]
  },
  {
   "cell_type": "markdown",
   "metadata": {},
   "source": [
    "# Exercice\n",
    "1. Créer une fonction \"somme_arithm\" qui prend en paramètre un nombre entier N et retourne la somme de tous les nombres entiers inférieurs ou égaux à N.\n",
    "2. Créer une fonction \"somme_carre\" qui prend en paramètre un nombre entier N et retourne la somme des carrés des nombres entiers inférieurs ou égaux à N.\n",
    "3. Créer une fonction \"somme_inverse\" qui prend en paramètre un nombre entier N et retourne la somme des inverses des nombres entiers inférieurs ou égaux à N.\n",
    "4. Créer une fonction \"somme_inverse_carre\" qui prend en paramètre un nombre entier N et retourne la somme des carrés des inverses des nombres entiers inférieurs ou égaux à N."
   ]
  },
  {
   "cell_type": "code",
   "execution_count": 2,
   "metadata": {},
   "outputs": [],
   "source": [
    "def somme_arithm(N):\n",
    "    S=0\n",
    "    for k in range(N):\n",
    "        S=S+k\n",
    "    return S\n",
    "\n",
    "s=somme_arithm(10)"
   ]
  },
  {
   "cell_type": "code",
   "execution_count": 1,
   "metadata": {},
   "outputs": [],
   "source": [
    "def somme_carre(N):\n",
    "    S=0\n",
    "    for k in range(N):\n",
    "        S=S+k**2\n",
    "    return S\n",
    "\n",
    "s=somme_carre(10)"
   ]
  },
  {
   "cell_type": "code",
   "execution_count": 3,
   "metadata": {},
   "outputs": [],
   "source": [
    "def somme_inverse(N):\n",
    "    S=0\n",
    "    for k in range(1,N):\n",
    "        S=S+1/k\n",
    "    return S\n",
    "\n",
    "s=somme_inverse(1000)"
   ]
  },
  {
   "cell_type": "code",
   "execution_count": 69,
   "metadata": {},
   "outputs": [
    {
     "data": {
      "text/plain": [
       "1.644934057834575"
      ]
     },
     "execution_count": 69,
     "metadata": {},
     "output_type": "execute_result"
    }
   ],
   "source": [
    "def somme_inverse_carre(N):\n",
    "    S=0\n",
    "    for k in range(1,N):\n",
    "        S=S+1/k**2\n",
    "    return S\n",
    "\n",
    "s=somme_inverse_carre(100000000)"
   ]
  },
  {
   "cell_type": "markdown",
   "metadata": {},
   "source": [
    "# Exercice\n",
    "1. Écrire une fonction \"zen\" qui affiche la ligne de 10 caractères : ZNZNZNZNZN\n",
    "2. Modifier cette fonction pour prendre en **paramètre** le nombre n de caractères.\n",
    "3. Modifier cette fonction pour prendre aussi en paramètre chaque caractère N et Z.\n",
    "4. Utiliser la fonction zen pour créer les deux lignes suivantes :       \n",
    "ZNZNZNZNZN    \n",
    "NZNZNZNZNZ\n",
    "5. Écrire une fonction \"pluszen\" qui utilise la fonction zen pour afficher p lignes et n colonnes de 2 caractères décalés."
   ]
  },
  {
   "cell_type": "code",
   "execution_count": 8,
   "metadata": {},
   "outputs": [],
   "source": [
    "def zen():\n",
    "    motif=\"\"\n",
    "    for _ in range(5):\n",
    "        motif+=\"ZN\"\n",
    "    motif+=\"\\n\"\n",
    "    return motif"
   ]
  },
  {
   "cell_type": "code",
   "execution_count": 9,
   "metadata": {},
   "outputs": [
    {
     "name": "stdout",
     "output_type": "stream",
     "text": [
      "ZNZNZNZNZN\n",
      "\n"
     ]
    }
   ],
   "source": [
    "ligne=zen()\n",
    "print(ligne)"
   ]
  },
  {
   "cell_type": "code",
   "execution_count": 11,
   "metadata": {},
   "outputs": [],
   "source": [
    "def zen(n):\n",
    "    motif=\"\"\n",
    "    for _ in range(n//2):\n",
    "        motif+=\"ZN\"\n",
    "    if n%2==0:\n",
    "        motif+=\"\\n\"\n",
    "    else:\n",
    "        motif+=\"Z\\n\"\n",
    "    return motif"
   ]
  },
  {
   "cell_type": "code",
   "execution_count": 12,
   "metadata": {
    "scrolled": true
   },
   "outputs": [
    {
     "name": "stdout",
     "output_type": "stream",
     "text": [
      "ZNZNZNZNZN\n",
      "\n",
      "ZNZNZNZNZNZ\n",
      "\n"
     ]
    }
   ],
   "source": [
    "ligne_pair=zen(10)\n",
    "ligne_impair=zen(11)\n",
    "print(ligne_pair)\n",
    "print(ligne_impair)"
   ]
  },
  {
   "cell_type": "code",
   "execution_count": 14,
   "metadata": {},
   "outputs": [],
   "source": [
    "def zen(n,c=\"Z\",d=\"N\"):\n",
    "    motif=\"\"\n",
    "    for _ in range(n//2):\n",
    "        motif+=c+d\n",
    "    if n%2==0:\n",
    "        motif+=\"\\n\"\n",
    "    else:\n",
    "        motif+=c+\"\\n\"\n",
    "    return motif"
   ]
  },
  {
   "cell_type": "code",
   "execution_count": 17,
   "metadata": {},
   "outputs": [
    {
     "name": "stdout",
     "output_type": "stream",
     "text": [
      "ABABABABA\n",
      "\n",
      "ONONONONONO\n",
      "\n"
     ]
    }
   ],
   "source": [
    "print(zen(9,\"A\",\"B\"))\n",
    "print(zen(11,\"O\"))"
   ]
  },
  {
   "cell_type": "code",
   "execution_count": 21,
   "metadata": {},
   "outputs": [
    {
     "name": "stdout",
     "output_type": "stream",
     "text": [
      "TCTCTCTCTC\n",
      "TCTCTCTCT\n",
      "TCTCTCTC\n",
      "TCTCTCT\n",
      "TCTCTC\n",
      "TCTCT\n",
      "TCTC\n",
      "TCT\n",
      "TC\n",
      "T\n",
      "\n"
     ]
    }
   ],
   "source": [
    "def zen_lignes(n,c,d):\n",
    "    dessin=\"\"\n",
    "    while n>0:\n",
    "        dessin+=zen(n,c,d)\n",
    "        n-=1\n",
    "    return dessin\n",
    "    \n",
    "figure=zen_lignes(10,\"T\",\"C\")\n",
    "print(figure)"
   ]
  },
  {
   "cell_type": "code",
   "execution_count": 38,
   "metadata": {},
   "outputs": [],
   "source": [
    "def pluszen(n,p,c,d):\n",
    "    dessin=\"\"\n",
    "    for _ in range(p//2):\n",
    "        dessin+=zen(n,c,d)\n",
    "        dessin+=zen(n,d,c)\n",
    "    if p%2==1:\n",
    "        dessin+=zen(n,c,d)\n",
    "        return dessin\n",
    "    else:\n",
    "        return dessin"
   ]
  },
  {
   "cell_type": "code",
   "execution_count": 43,
   "metadata": {},
   "outputs": [
    {
     "name": "stdout",
     "output_type": "stream",
     "text": [
      "NZNZN\n",
      "ZNZNZ\n",
      "NZNZN\n",
      "ZNZNZ\n",
      "\n"
     ]
    }
   ],
   "source": [
    "fig=pluszen(5,4,\"N\",\"Z\")\n",
    "print(fig)"
   ]
  },
  {
   "cell_type": "markdown",
   "metadata": {},
   "source": [
    "# Exercice\n",
    "1. Créer une fonction \"est_impair\" qui prend en paramètre un nombre entier et retourne True si le nombre est pair et False s'il ne l'est pas.\n",
    "2. Créer une fonction \"est_multiple\" qui prend en paramètre 2 nombres entiers et qui retourne True si le premier nombre est un multiple du second et False sinon.\n",
    "3. Un nombre entier est dit premier s'il est divisible par 1 et lui-même. Écrire une fonction \"est_premier\" qui prend en paramètre un nombre entier et retourne True s'il est premier et False sinon."
   ]
  },
  {
   "cell_type": "code",
   "execution_count": 44,
   "metadata": {},
   "outputs": [],
   "source": [
    "def est_impair(n):\n",
    "    if n%2==1: \n",
    "        return True\n",
    "    else: \n",
    "        return False"
   ]
  },
  {
   "cell_type": "code",
   "execution_count": 48,
   "metadata": {},
   "outputs": [],
   "source": [
    "assert est_impair(9)==True\n",
    "assert est_impair(12)==False"
   ]
  },
  {
   "cell_type": "code",
   "execution_count": 50,
   "metadata": {},
   "outputs": [],
   "source": [
    "def est_multiple(n,p):\n",
    "    if n%p==0: \n",
    "        return True\n",
    "    else: \n",
    "        return False"
   ]
  },
  {
   "cell_type": "code",
   "execution_count": 51,
   "metadata": {},
   "outputs": [],
   "source": [
    "assert est_multiple(12,3)==True\n",
    "assert est_multiple(15,4)==False"
   ]
  },
  {
   "cell_type": "code",
   "execution_count": 36,
   "metadata": {},
   "outputs": [
    {
     "data": {
      "text/plain": [
       "False"
      ]
     },
     "execution_count": 36,
     "metadata": {},
     "output_type": "execute_result"
    }
   ],
   "source": [
    "est_multiple(15,4)"
   ]
  },
  {
   "cell_type": "code",
   "execution_count": 54,
   "metadata": {},
   "outputs": [],
   "source": [
    "def est_premier(n):\n",
    "    for k in range(2,n):\n",
    "        if n%k==0: \n",
    "            return False\n",
    "    return True\n",
    "\n",
    "assert est_premier(10)==False\n",
    "assert est_premier(21)==False\n",
    "assert est_premier(17)==True\n",
    "assert est_premier(15787)==True"
   ]
  },
  {
   "cell_type": "markdown",
   "metadata": {},
   "source": [
    "# Exercice\n",
    "\n",
    "On dit que deux nombres entiers A et B sont amicaux si la somme des diviseurs de A est égale à B et en même temps la somme des diviseurs de B est égale à A. Attention, on ne prend pas en compte A et B comme diviseur ([wikipedia - nombres amicaux](https://fr.wikipedia.org/wiki/Nombres_amicaux)).\n",
    "\n",
    "1. Créer une fonction \"somme\\_diviseur\" qui prend en paramètre un nombre entier N et retourne la somme des diviseurs de N (on ne doit pas prendre  en compte N comme diviseur).\n",
    "2. Créer une fonction \"nombres\\_amicaux\" qui prend en paramètre 2 nombres entiers A et B et retourne True s'ils sont amicaux et False sinon.\n",
    "3. Vérifier que les nombres 220 et 284 sont amicaux. De même avec 12 285 et 14 595."
   ]
  },
  {
   "cell_type": "code",
   "execution_count": 76,
   "metadata": {
    "scrolled": true
   },
   "outputs": [
    {
     "data": {
      "text/plain": [
       "11"
      ]
     },
     "execution_count": 76,
     "metadata": {},
     "output_type": "execute_result"
    }
   ],
   "source": [
    "def somme_diviseur(N):\n",
    "    S=0\n",
    "    for k in range(1,N-1):\n",
    "        if N%k==0:\n",
    "            #print(k)\n",
    "            S=S+k\n",
    "    return S\n",
    "\n",
    "somme_diviseur(21)"
   ]
  },
  {
   "cell_type": "code",
   "execution_count": 79,
   "metadata": {},
   "outputs": [
    {
     "data": {
      "text/plain": [
       "True"
      ]
     },
     "execution_count": 79,
     "metadata": {},
     "output_type": "execute_result"
    }
   ],
   "source": [
    "def nombres_amicaux(A,B):\n",
    "    if somme_diviseur(A)==B and somme_diviseur(B)==A: return True\n",
    "    else: return False\n",
    "    \n",
    "nombres_amicaux(12285,14595)"
   ]
  },
  {
   "cell_type": "markdown",
   "metadata": {},
   "source": [
    "# Exercice\n",
    "Créer une fonction \"retourne\" qui prend en paramètre 1 nombre entier et retourne le nombre écrit à l'envers. Par exemple, retourne(123)=321"
   ]
  },
  {
   "cell_type": "code",
   "execution_count": 77,
   "metadata": {},
   "outputs": [
    {
     "name": "stdout",
     "output_type": "stream",
     "text": [
      "aL eugnalgroz en erèffid ud siaçnarf euq rap el tiaf euq sel serttel sed stom tnos seésrevni \n"
     ]
    }
   ],
   "source": [
    "def zorg_mot(mot):\n",
    "    tom=\"\"\n",
    "    for l in mot:\n",
    "        tom=l+tom\n",
    "    return tom\n",
    "\n",
    "zorg_mot(\"fraise\")\n",
    "\n",
    "phrase=\"La zorglangue ne diffère du français que par le fait que les lettres des mots sont inversées\"\n",
    "liste_de_mots=phrase.split(\" \")\n",
    "#print(liste_de_mots)\n",
    "\n",
    "esarhp=\"\"\n",
    "for mot in liste_de_mots:\n",
    "    esarhp+=zorg_mot(mot)+\" \"\n",
    "print(esarhp)"
   ]
  },
  {
   "cell_type": "code",
   "execution_count": 83,
   "metadata": {},
   "outputs": [],
   "source": [
    "def palindrome(mot):\n",
    "    if mot==zorg_mot(mot):\n",
    "        return True\n",
    "    else:\n",
    "        return False\n",
    "    \n",
    "assert palindrome(\"laval\")==True\n",
    "assert palindrome(\"fraise\")==False\n",
    "assert palindrome(\"non\")==True\n",
    "assert palindrome(\"engage le jeu que je le gagne\")==False # à cause des espaces"
   ]
  },
  {
   "cell_type": "code",
   "execution_count": 88,
   "metadata": {},
   "outputs": [],
   "source": [
    "def supprime_espaces(mot):\n",
    "    nospace=\"\"\n",
    "    for lettre in mot:\n",
    "        if lettre!=\" \":\n",
    "            nospace+=lettre\n",
    "    return nospace\n",
    "\n",
    "def palindrome(mot):\n",
    "    m=supprime_espaces(mot)\n",
    "    if m==zorg_mot(m):\n",
    "        return True\n",
    "    else:\n",
    "        return False\n",
    "    \n",
    "assert palindrome(\"laval\")==True\n",
    "assert palindrome(\"fraise\")==False\n",
    "assert palindrome(\"non\")==True\n",
    "assert palindrome(\"engage le jeu que je le gagne\")==True"
   ]
  },
  {
   "cell_type": "code",
   "execution_count": 54,
   "metadata": {},
   "outputs": [],
   "source": [
    "def retourne(n):\n",
    "    nb=''\n",
    "    while n//10!=0:\n",
    "        r=n%10\n",
    "        nb=nb+str(r)\n",
    "        n=n//10\n",
    "    nb=nb+str(n)\n",
    "    return int(nb)"
   ]
  },
  {
   "cell_type": "code",
   "execution_count": 56,
   "metadata": {},
   "outputs": [
    {
     "data": {
      "text/plain": [
       "7654321"
      ]
     },
     "execution_count": 56,
     "metadata": {},
     "output_type": "execute_result"
    }
   ],
   "source": [
    "retourne(1234567)"
   ]
  },
  {
   "cell_type": "code",
   "execution_count": 75,
   "metadata": {},
   "outputs": [],
   "source": [
    "def retourne(n):\n",
    "    p=1\n",
    "    v=0\n",
    "    \"\"\"Dans la boucle while, on détermine le nombre de chiffres du nombre n;\n",
    "    Dans la boucle for:\n",
    "    -> on récupère le chiffre des unités -> u\n",
    "    -> on valcule v pour avoir u comme son chiffre de le plus à gauche\n",
    "    -> on divise n par 10\n",
    "    \"\"\"\n",
    "    while n//10**p>0:\n",
    "        p+=1\n",
    "    for i in range(p):\n",
    "        u=n%10\n",
    "        v=v+u*(10**(p-i-1))\n",
    "        n=n//10\n",
    "    return v"
   ]
  },
  {
   "cell_type": "code",
   "execution_count": 74,
   "metadata": {},
   "outputs": [
    {
     "name": "stdout",
     "output_type": "stream",
     "text": [
      "93185\n"
     ]
    }
   ],
   "source": [
    "print(retourne(58139))"
   ]
  },
  {
   "cell_type": "code",
   "execution_count": null,
   "metadata": {},
   "outputs": [],
   "source": []
  }
 ],
 "metadata": {
  "kernelspec": {
   "display_name": "Python 3",
   "language": "python",
   "name": "python3"
  },
  "language_info": {
   "codemirror_mode": {
    "name": "ipython",
    "version": 3
   },
   "file_extension": ".py",
   "mimetype": "text/x-python",
   "name": "python",
   "nbconvert_exporter": "python",
   "pygments_lexer": "ipython3",
   "version": "3.9.4"
  },
  "latex_envs": {
   "bibliofile": "biblio.bib",
   "cite_by": "apalike",
   "current_citInitial": 1,
   "eqLabelWithNumbers": true,
   "eqNumInitial": 0
  }
 },
 "nbformat": 4,
 "nbformat_minor": 2
}
