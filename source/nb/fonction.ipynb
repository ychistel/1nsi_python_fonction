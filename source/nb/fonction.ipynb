{
 "cells": [
  {
   "cell_type": "markdown",
   "id": "91cdcc64",
   "metadata": {},
   "source": [
    "Créer ses fonctions\n",
    "================"
   ]
  },
  {
   "cell_type": "raw",
   "id": "5db2814d",
   "metadata": {
    "raw_mimetype": "text/restructuredtext"
   },
   "source": [
    ".. container:: activite\n",
    "    \n",
    "    Ce cours fait suite à l'activité :download:`créer ses fonctions <activite_fonction.pdf>`."
   ]
  },
  {
   "cell_type": "markdown",
   "id": "b1354f19",
   "metadata": {},
   "source": [
    "Lorsqu'un programme contient des blocs de code **semblables** utilisés à plusieurs reprises, il est alors plus efficace d'écrire ce bloc de code dans une fonction et de remplacer chaque bloc du programme par un **appel** à la fonction.\n",
    "\n",
    "Cela donne une structure différente au programme. On écrit en premier toutes les fonctions puis le programme principal contenant les appels aux différentes fonctions."
   ]
  },
  {
   "cell_type": "raw",
   "id": "80f9f6ad",
   "metadata": {
    "raw_mimetype": "text/restructuredtext"
   },
   "source": [
    ".. image:: img/fonction_1.svg\n",
    "    :align: center\n",
    "    :width: 300px\n",
    "    :alt: image svg"
   ]
  },
  {
   "cell_type": "markdown",
   "id": "2e91d9d4",
   "metadata": {},
   "source": [
    "On trouve plusieurs avantages à créer ses fonctions:\n",
    "\n",
    "- la maintenance du code est plus facile; il suffit de modifier la fonction ce qui évite de modifier tous les blocs de code éparpillés dans le programme principal.\n",
    "- une fonction est réutilisable plusieurs fois\n",
    "- le programme principal est rendu plus lisible\n",
    "- une fonction peut utiliser des paramètres qui font référence aux variables du programme"
   ]
  },
  {
   "cell_type": "raw",
   "id": "890a3701",
   "metadata": {
    "raw_mimetype": "text/restructuredtext"
   },
   "source": [
    ".. warning::\n",
    "\n",
    "    - Les variables du programme principal sont **globales** et accessible n'importe où dans le programme.\n",
    "    - Les variables d'une fonction sont **locales** et donc uniquement accessible dans la fonction."
   ]
  },
  {
   "cell_type": "markdown",
   "id": "9ecbe61b",
   "metadata": {},
   "source": [
    "En Python\n",
    "---------------\n",
    "\n",
    "La syntaxe pour créer une fonction est la suivante : `def <nom_fonction>([paramètres]):`\n",
    "\n",
    "Expliquons les différentes parties de cette syntaxe:\n",
    "\n",
    "- `def` est le mot clef qui informe Python qu'une fonction est créée;\n",
    "- `<nom_fonction>` est le nom qui identifie la fonction;\n",
    "- `[paramètres]` représentent les différents paramètres utilisés par la fonction pour renvoyer une valeur. Il peut y avoir aucun ou 1 ou 2 ou plusieurs paramètres. Ces paramètres sont remplacés par des valeurs lorsque la fonction est appelée dans le programme principal;\n",
    "- Les deux points `:` termine la définition de la fonction et provoque une indentation des instructions contenues dans la fonction."
   ]
  },
  {
   "cell_type": "raw",
   "id": "662dd3c8",
   "metadata": {
    "raw_mimetype": "text/restructuredtext"
   },
   "source": [
    ".. admonition:: Exemple\n",
    "\n",
    "    .. code:: python\n",
    "        :lineos:"
   ]
  }
 ],
 "metadata": {
  "celltoolbar": "Format de la Cellule Texte Brut",
  "kernelspec": {
   "display_name": "Python 3",
   "language": "python",
   "name": "python3"
  },
  "language_info": {
   "codemirror_mode": {
    "name": "ipython",
    "version": 3
   },
   "file_extension": ".py",
   "mimetype": "text/x-python",
   "name": "python",
   "nbconvert_exporter": "python",
   "pygments_lexer": "ipython3",
   "version": "3.9.4"
  }
 },
 "nbformat": 4,
 "nbformat_minor": 5
}
